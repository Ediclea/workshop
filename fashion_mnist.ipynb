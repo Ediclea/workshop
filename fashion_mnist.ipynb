{
  "nbformat": 4,
  "nbformat_minor": 0,
  "metadata": {
    "colab": {
      "name": "fashion_mnist.ipynb",
      "version": "0.3.2",
      "provenance": [],
      "collapsed_sections": [],
      "include_colab_link": true
    },
    "kernelspec": {
      "name": "python3",
      "display_name": "Python 3"
    }
  },
  "cells": [
    {
      "cell_type": "markdown",
      "metadata": {
        "id": "view-in-github",
        "colab_type": "text"
      },
      "source": [
        "[View in Colaboratory](https://colab.research.google.com/github/pedrocwb/workshop/blob/master/fashion_mnist.ipynb)"
      ]
    },
    {
      "metadata": {
        "id": "qsdEvvzwPGSc",
        "colab_type": "code",
        "colab": {}
      },
      "cell_type": "code",
      "source": [
        ""
      ],
      "execution_count": 0,
      "outputs": []
    },
    {
      "metadata": {
        "id": "nsV8D-ZLSIJ_",
        "colab_type": "text"
      },
      "cell_type": "markdown",
      "source": [
        "# Exercicio Prático de Deep Learning usando Keras"
      ]
    },
    {
      "metadata": {
        "id": "_URT1exQSO9E",
        "colab_type": "code",
        "colab": {}
      },
      "cell_type": "code",
      "source": [
        "!pip install -q -U tensorflow>=1.8.0"
      ],
      "execution_count": 0,
      "outputs": []
    },
    {
      "metadata": {
        "id": "oG8JJVuqPOr8",
        "colab_type": "code",
        "colab": {}
      },
      "cell_type": "code",
      "source": [
        "import tensorflow as tf\n",
        "import tensorflow.keras as keras\n",
        "import numpy as np\n",
        "import matplotlib.pyplot as plt"
      ],
      "execution_count": 0,
      "outputs": []
    },
    {
      "metadata": {
        "id": "WBaSBxPhVWcO",
        "colab_type": "text"
      },
      "cell_type": "markdown",
      "source": [
        "### Vamos fazer o download da base de dados"
      ]
    },
    {
      "metadata": {
        "id": "jmdZmjAZPdNz",
        "colab_type": "code",
        "colab": {}
      },
      "cell_type": "code",
      "source": [
        "# Download do dataset\n",
        "(x_train, y_train), (x_test, y_test) = keras.datasets.fashion_mnist.load_data()"
      ],
      "execution_count": 0,
      "outputs": []
    },
    {
      "metadata": {
        "id": "tlEsj1xsVrnW",
        "colab_type": "text"
      },
      "cell_type": "markdown",
      "source": [
        "### Entendendo o dado"
      ]
    },
    {
      "metadata": {
        "id": "9hvR0Wb0PnED",
        "colab_type": "code",
        "colab": {
          "base_uri": "https://localhost:8080/",
          "height": 67
        },
        "outputId": "e75ab102-8d61-425c-8e24-6a998c6df2ac"
      },
      "cell_type": "code",
      "source": [
        "# Print training set shape - note there are 60,000 training data of image size of 28x28, 60,000 train labels)\n",
        "print(\"x_train shape:\", x_train.shape, \"y_train shape:\", y_train.shape)\n",
        "\n",
        "# Print the number of training and test datasets\n",
        "print(x_train.shape[0], 'train set')\n",
        "print(x_test.shape[0], 'test set')"
      ],
      "execution_count": 22,
      "outputs": [
        {
          "output_type": "stream",
          "text": [
            "x_train shape: (60000, 28, 28) y_train shape: (60000,)\n",
            "60000 train set\n",
            "10000 test set\n"
          ],
          "name": "stdout"
        }
      ]
    },
    {
      "metadata": {
        "id": "PS5W3OEtPpWD",
        "colab_type": "code",
        "colab": {
          "base_uri": "https://localhost:8080/",
          "height": 382
        },
        "outputId": "93f11cee-7fdf-41ef-8471-fc3a8d149cba"
      },
      "cell_type": "code",
      "source": [
        "# Define as labels\n",
        "fashion_mnist_labels = [\"Camiseta/top\",  # index 0\n",
        "                        \"Calça\",         # index 1\n",
        "                        \"Pulôver\",       # index 2 \n",
        "                        \"Vestido\",       # index 3 \n",
        "                        \"Casaco\",        # index 4\n",
        "                        \"Sandalia\",      # index 5\n",
        "                        \"Camisa\",        # index 6 \n",
        "                        \"Tênis\",         # index 7 \n",
        "                        \"bolsa\",           # index 8 \n",
        "                        \"Sapato de Salto\"] # index 9\n",
        "\n",
        "# Image index\n",
        "img_index = 9\n",
        "\n",
        "# y_train contém as labels\n",
        "label_index = y_train[img_index]\n",
        "print (\"y = \" + str(label_index) + \" \" +(fashion_mnist_labels[label_index]))\n",
        "plt.imshow(x_train[img_index])"
      ],
      "execution_count": 23,
      "outputs": [
        {
          "output_type": "stream",
          "text": [
            "y = 5 Sandalia\n"
          ],
          "name": "stdout"
        },
        {
          "output_type": "execute_result",
          "data": {
            "text/plain": [
              "<matplotlib.image.AxesImage at 0x7f099ecb3e80>"
            ]
          },
          "metadata": {
            "tags": []
          },
          "execution_count": 23
        },
        {
          "output_type": "display_data",
          "data": {
            "image/png": "[encoded data removed]",
            "text/plain": [
              "<matplotlib.figure.Figure at 0x7f099ec3d668>"
            ]
          },
          "metadata": {
            "tags": []
          }
        }
      ]
    },
    {
      "metadata": {
        "id": "OU5dn2uhXgXI",
        "colab_type": "text"
      },
      "cell_type": "markdown",
      "source": [
        "### Pré-processamento do dado\n",
        "Vamos normalizar o dado para que tenham aproximadamente a mesma *escala*.\n",
        "Se verificarmos a primeira imagem do conjunto de treinamento, veremos que os valores caem entre 0 e 255.\n",
        "Vamos normalizar o dado para que seja em 0 e 1."
      ]
    },
    {
      "metadata": {
        "id": "HAN_sTzsYYPU",
        "colab_type": "code",
        "colab": {
          "base_uri": "https://localhost:8080/",
          "height": 347
        },
        "outputId": "b4acabdc-e63f-486b-b748-7c4ac08f16b4"
      },
      "cell_type": "code",
      "source": [
        "plt.figure()\n",
        "plt.imshow(x_train[0])\n",
        "plt.colorbar()\n",
        "plt.grid(False)"
      ],
      "execution_count": 26,
      "outputs": [
        {
          "output_type": "display_data",
          "data": {
            "image/png": "[encoded data removed]",
            "text/plain": [
              "<matplotlib.figure.Figure at 0x7f099ed9b2b0>"
            ]
          },
          "metadata": {
            "tags": []
          }
        }
      ]
    },
    {
      "metadata": {
        "id": "GtWNzl-CPsYT",
        "colab_type": "code",
        "colab": {
          "base_uri": "https://localhost:8080/",
          "height": 52
        },
        "outputId": "fd88cdc6-7fe4-4f3c-9940-fc29f1caaba9"
      },
      "cell_type": "code",
      "source": [
        "x_train = x_train.astype('float32') / 255\n",
        "x_test = x_test.astype('float32') / 255\n",
        "\n",
        "print(\"Number of train data - \" + str(len(x_train)))\n",
        "print(\"Number of test data - \" + str(len(x_test)))"
      ],
      "execution_count": 27,
      "outputs": [
        {
          "output_type": "stream",
          "text": [
            "Number of train data - 60000\n",
            "Number of test data - 10000\n"
          ],
          "name": "stdout"
        }
      ]
    },
    {
      "metadata": {
        "id": "RBRWYPgMZGkz",
        "colab_type": "code",
        "colab": {
          "base_uri": "https://localhost:8080/",
          "height": 350
        },
        "outputId": "8a29499f-63cd-4135-ca67-22dd83a65083"
      },
      "cell_type": "code",
      "source": [
        "plt.figure()\n",
        "plt.imshow(x_train[0])\n",
        "plt.colorbar()\n",
        "plt.grid(False)"
      ],
      "execution_count": 28,
      "outputs": [
        {
          "output_type": "display_data",
          "data": {
            "image/png": "[encoded data removed]",
            "text/plain": [
              "<matplotlib.figure.Figure at 0x7f099ebde898>"
            ]
          },
          "metadata": {
            "tags": []
          }
        }
      ]
    },
    {
      "metadata": {
        "id": "ydQBJ4XYXsQQ",
        "colab_type": "text"
      },
      "cell_type": "markdown",
      "source": [
        "##Dividir o dataset em treinamento, validação e teste"
      ]
    },
    {
      "metadata": {
        "id": "i7wQG9PXPxwS",
        "colab_type": "code",
        "colab": {
          "base_uri": "https://localhost:8080/",
          "height": 84
        },
        "outputId": "ea2598ea-fa20-433c-a27c-0dfb9302c8a4"
      },
      "cell_type": "code",
      "source": [
        "(x_train, x_valid) = x_train[5000:], x_train[:5000] \n",
        "(y_train, y_valid) = y_train[5000:], y_train[:5000]\n",
        "\n",
        "\n",
        "# Reshape input data from (28, 28) to (28, 28, 1)\n",
        "w, h = 28, 28\n",
        "x_train = x_train.reshape(x_train.shape[0], w, h, 1)\n",
        "x_valid = x_valid.reshape(x_valid.shape[0], w, h, 1)\n",
        "x_test = x_test.reshape(x_test.shape[0], w, h, 1)\n",
        "\n",
        "# One-hot encode the labels\n",
        "y_train = tf.keras.utils.to_categorical(y_train, 10)\n",
        "y_valid = tf.keras.utils.to_categorical(y_valid, 10)\n",
        "y_test = tf.keras.utils.to_categorical(y_test, 10)\n",
        "\n",
        "# Print training set shape\n",
        "print(\"x_train shape:\", x_train.shape, \"y_train shape:\", y_train.shape)\n",
        "\n",
        "# Print the number of training, validation, and test datasets\n",
        "print(x_train.shape[0], 'train set')\n",
        "print(x_valid.shape[0], 'validation set')\n",
        "print(x_test.shape[0], 'test set')"
      ],
      "execution_count": 30,
      "outputs": [
        {
          "output_type": "stream",
          "text": [
            "x_train shape: (55000, 28, 28, 1) y_train shape: (55000, 10)\n",
            "55000 train set\n",
            "5000 validation set\n",
            "10000 test set\n"
          ],
          "name": "stdout"
        }
      ]
    },
    {
      "metadata": {
        "id": "jukfsz7mZPk8",
        "colab_type": "text"
      },
      "cell_type": "markdown",
      "source": [
        "## Criando a arquitetura do modelo"
      ]
    },
    {
      "metadata": {
        "id": "8RowGB0HQe6r",
        "colab_type": "code",
        "colab": {
          "base_uri": "https://localhost:8080/",
          "height": 468
        },
        "outputId": "b15e0a46-759b-40b6-83d4-a4f6475ed25d"
      },
      "cell_type": "code",
      "source": [
        "model = tf.keras.Sequential()\n",
        "\n",
        "\n",
        "# É preciso definir o shape da imagem de entrada na primeira  camada da rede neural\n",
        "model.add(keras.layers.Conv2D(filters=64, kernel_size=2, padding='same', activation='relu', input_shape=(28,28,1))) \n",
        "model.add(keras.layers.MaxPooling2D(pool_size=2))\n",
        "model.add(keras.layers.Dropout(0.3))\n",
        "\n",
        "model.add(keras.layers.Conv2D(filters=32, kernel_size=2, padding='same', activation='relu'))\n",
        "model.add(keras.layers.MaxPooling2D(pool_size=2))\n",
        "model.add(keras.layers.Dropout(0.3))\n",
        "\n",
        "model.add(keras.layers.Flatten())\n",
        "model.add(keras.layers.Dense(256, activation='relu'))\n",
        "model.add(keras.layers.Dropout(0.5))\n",
        "model.add(keras.layers.Dense(10, activation='softmax'))\n",
        "\n",
        "# Take a look at the model summary\n",
        "model.summary()"
      ],
      "execution_count": 31,
      "outputs": [
        {
          "output_type": "stream",
          "text": [
            "_________________________________________________________________\n",
            "Layer (type)                 Output Shape              Param #   \n",
            "=================================================================\n",
            "conv2d (Conv2D)              (None, 28, 28, 64)        320       \n",
            "_________________________________________________________________\n",
            "max_pooling2d (MaxPooling2D) (None, 14, 14, 64)        0         \n",
            "_________________________________________________________________\n",
            "dropout (Dropout)            (None, 14, 14, 64)        0         \n",
            "_________________________________________________________________\n",
            "conv2d_1 (Conv2D)            (None, 14, 14, 32)        8224      \n",
            "_________________________________________________________________\n",
            "max_pooling2d_1 (MaxPooling2 (None, 7, 7, 32)          0         \n",
            "_________________________________________________________________\n",
            "dropout_1 (Dropout)          (None, 7, 7, 32)          0         \n",
            "_________________________________________________________________\n",
            "flatten (Flatten)            (None, 1568)              0         \n",
            "_________________________________________________________________\n",
            "dense (Dense)                (None, 256)               401664    \n",
            "_________________________________________________________________\n",
            "dropout_2 (Dropout)          (None, 256)               0         \n",
            "_________________________________________________________________\n",
            "dense_1 (Dense)              (None, 10)                2570      \n",
            "=================================================================\n",
            "Total params: 412,778\n",
            "Trainable params: 412,778\n",
            "Non-trainable params: 0\n",
            "_________________________________________________________________\n"
          ],
          "name": "stdout"
        }
      ]
    },
    {
      "metadata": {
        "id": "KK5Z1tDEZp_c",
        "colab_type": "code",
        "colab": {}
      },
      "cell_type": "code",
      "source": [
        ""
      ],
      "execution_count": 0,
      "outputs": []
    },
    {
      "metadata": {
        "id": "OFJocdqmZqMM",
        "colab_type": "text"
      },
      "cell_type": "markdown",
      "source": [
        "##Compilando o modelo\n",
        "\n",
        "Aqui definimos\n",
        "*   Otimizador\n",
        "*   Função de perda (ou custo)\n",
        "*   Um métrica\n",
        "\n"
      ]
    },
    {
      "metadata": {
        "id": "fyPwnwxNQiRT",
        "colab_type": "code",
        "colab": {}
      },
      "cell_type": "code",
      "source": [
        "model.compile(loss='categorical_crossentropy',\n",
        "             optimizer='adam',\n",
        "             metrics=['accuracy', 'categorical_accuracy'])"
      ],
      "execution_count": 0,
      "outputs": []
    },
    {
      "metadata": {
        "id": "UKDD2IgfQkor",
        "colab_type": "code",
        "colab": {}
      },
      "cell_type": "code",
      "source": [
        ""
      ],
      "execution_count": 0,
      "outputs": []
    },
    {
      "metadata": {
        "id": "gJvVxYOxQp4D",
        "colab_type": "text"
      },
      "cell_type": "markdown",
      "source": [
        "## Treinamento o modelo\n"
      ]
    },
    {
      "metadata": {
        "id": "t_VkVbZhQr8i",
        "colab_type": "code",
        "colab": {
          "base_uri": "https://localhost:8080/",
          "height": 739
        },
        "outputId": "5d434fd7-9d0f-4042-c381-40389ec5fad9"
      },
      "cell_type": "code",
      "source": [
        "from keras.callbacks import ModelCheckpoint\n",
        "\n",
        "checkpointer = ModelCheckpoint(filepath='model.weights.best.hdf5', verbose = 1, save_best_only=True)\n",
        "model.fit(x_train,\n",
        "         y_train,\n",
        "         batch_size=64,\n",
        "         epochs=10,\n",
        "         validation_data=(x_valid, y_valid),\n",
        "         callbacks=[checkpointer])"
      ],
      "execution_count": 0,
      "outputs": [
        {
          "output_type": "stream",
          "text": [
            "Using TensorFlow backend.\n"
          ],
          "name": "stderr"
        },
        {
          "output_type": "stream",
          "text": [
            "Train on 55000 samples, validate on 5000 samples\n",
            "Epoch 1/10\n",
            "55000/55000 [==============================] - 108s 2ms/step - loss: 1.1125 - acc: 0.5740 - val_loss: 0.6873 - val_acc: 0.7280\n",
            "\n",
            "Epoch 00001: val_loss improved from inf to 0.68730, saving model to model.weights.best.hdf5\n",
            "Epoch 2/10\n",
            "55000/55000 [==============================] - 107s 2ms/step - loss: 0.7373 - acc: 0.7149 - val_loss: 0.6594 - val_acc: 0.7590\n",
            "\n",
            "Epoch 00002: val_loss improved from 0.68730 to 0.65935, saving model to model.weights.best.hdf5\n",
            "Epoch 3/10\n",
            "55000/55000 [==============================] - 104s 2ms/step - loss: 0.6995 - acc: 0.7308 - val_loss: 0.5835 - val_acc: 0.7926\n",
            "\n",
            "Epoch 00003: val_loss improved from 0.65935 to 0.58352, saving model to model.weights.best.hdf5\n",
            "Epoch 4/10\n",
            "55000/55000 [==============================] - 105s 2ms/step - loss: 0.6703 - acc: 0.7434 - val_loss: 0.5656 - val_acc: 0.7948\n",
            "\n",
            "Epoch 00004: val_loss improved from 0.58352 to 0.56560, saving model to model.weights.best.hdf5\n",
            "Epoch 5/10\n",
            "55000/55000 [==============================] - 105s 2ms/step - loss: 0.6500 - acc: 0.7525 - val_loss: 0.5513 - val_acc: 0.8036\n",
            "\n",
            "Epoch 00005: val_loss improved from 0.56560 to 0.55135, saving model to model.weights.best.hdf5\n",
            "Epoch 6/10\n",
            "55000/55000 [==============================] - 105s 2ms/step - loss: 0.6357 - acc: 0.7599 - val_loss: 0.5342 - val_acc: 0.8128\n",
            "\n",
            "Epoch 00006: val_loss improved from 0.55135 to 0.53424, saving model to model.weights.best.hdf5\n",
            "Epoch 7/10\n",
            "55000/55000 [==============================] - 105s 2ms/step - loss: 0.6237 - acc: 0.7629 - val_loss: 0.5141 - val_acc: 0.8148\n",
            "\n",
            "Epoch 00007: val_loss improved from 0.53424 to 0.51410, saving model to model.weights.best.hdf5\n",
            "Epoch 8/10\n",
            "55000/55000 [==============================] - 105s 2ms/step - loss: 0.6097 - acc: 0.7661 - val_loss: 0.5046 - val_acc: 0.8194\n",
            "\n",
            "Epoch 00008: val_loss improved from 0.51410 to 0.50459, saving model to model.weights.best.hdf5\n",
            "Epoch 9/10\n",
            "55000/55000 [==============================] - 104s 2ms/step - loss: 0.5993 - acc: 0.7731 - val_loss: 0.5066 - val_acc: 0.8094\n",
            "\n",
            "Epoch 00009: val_loss did not improve from 0.50459\n",
            "Epoch 10/10\n",
            "55000/55000 [==============================] - 105s 2ms/step - loss: 0.5901 - acc: 0.7773 - val_loss: 0.4873 - val_acc: 0.8260\n",
            "\n",
            "Epoch 00010: val_loss improved from 0.50459 to 0.48735, saving model to model.weights.best.hdf5\n"
          ],
          "name": "stdout"
        },
        {
          "output_type": "execute_result",
          "data": {
            "text/plain": [
              "<tensorflow.python.keras.callbacks.History at 0x7f21e7dcca58>"
            ]
          },
          "metadata": {
            "tags": []
          },
          "execution_count": 14
        }
      ]
    },
    {
      "metadata": {
        "id": "T4r-CXSNQwMo",
        "colab_type": "code",
        "colab": {}
      },
      "cell_type": "code",
      "source": [
        ""
      ],
      "execution_count": 0,
      "outputs": []
    },
    {
      "metadata": {
        "id": "83rsAc-FTTvk",
        "colab_type": "code",
        "colab": {
          "base_uri": "https://localhost:8080/",
          "height": 50
        },
        "outputId": "f7cb6b6d-965d-47d9-f476-d62df499736e"
      },
      "cell_type": "code",
      "source": [
        "# Carregar os pesos do melhor modelo\n",
        "model.load_weights('model.weights.best.hdf5')\n",
        "\n",
        "#Avaliando o modelo no conjunto de teste\n",
        "score = model.evaluate(x_test, y_test, verbose=0)\n",
        "\n",
        "# Mostra a acurácia \n",
        "print('\\n', 'Test accuracy:', score[1])"
      ],
      "execution_count": 41,
      "outputs": [
        {
          "output_type": "stream",
          "text": [
            "\n",
            " Test accuracy: 0.6408\n"
          ],
          "name": "stdout"
        }
      ]
    },
    {
      "metadata": {
        "id": "xjdzQiwrTU1s",
        "colab_type": "code",
        "colab": {
          "base_uri": "https://localhost:8080/",
          "height": 481
        },
        "outputId": "e99a48a4-74a1-4f84-d66d-d225522606b4"
      },
      "cell_type": "code",
      "source": [
        "y_hat = model.predict(x_test)\n",
        "\n",
        "# Plot a random sample of 10 test images, their predicted labels and ground truth\n",
        "figure = plt.figure(figsize=(20, 8))\n",
        "\n",
        "for i, index in enumerate(np.random.choice(x_test.shape[0], size=15, replace=False)):\n",
        "    ax = figure.add_subplot(3, 5, i + 1, xticks=[], yticks=[])\n",
        "    \n",
        "    # Display each image\n",
        "    ax.imshow(np.squeeze(x_test[index]))\n",
        "    predict_index = np.argmax(y_hat[index])\n",
        "    true_index = np.argmax(y_test[index])\n",
        "  \n",
        "    \n",
        "    # Set the title for each image\n",
        "    ax.set_title(\"{} ({})\".format(fashion_mnist_labels[predict_index], \n",
        "                                  fashion_mnist_labels[true_index]),\n",
        "                                  color=(\"green\" if predict_index == true_index else \"red\"))"
      ],
      "execution_count": 42,
      "outputs": [
        {
          "output_type": "display_data",
          "data": {
            "image/png": "[encoded data removed]",
            "text/plain": [
              "<matplotlib.figure.Figure at 0x7f09972b3390>"
            ]
          },
          "metadata": {
            "tags": []
          }
        }
      ]
    },
    {
      "metadata": {
        "id": "C7z8gtf_VCoy",
        "colab_type": "code",
        "colab": {}
      },
      "cell_type": "code",
      "source": [
        ""
      ],
      "execution_count": 0,
      "outputs": []
    }
  ]
}